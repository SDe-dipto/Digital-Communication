{
  "nbformat": 4,
  "nbformat_minor": 0,
  "metadata": {
    "colab": {
      "provenance": []
    },
    "kernelspec": {
      "name": "python3",
      "display_name": "Python 3"
    },
    "language_info": {
      "name": "python"
    }
  },
  "cells": [
    {
      "cell_type": "code",
      "execution_count": null,
      "metadata": {
        "colab": {
          "base_uri": "https://localhost:8080/"
        },
        "id": "Cc3SJsm1Nye_",
        "outputId": "86a4ad6e-dce7-417c-b87a-70e178532108"
      },
      "outputs": [
        {
          "output_type": "stream",
          "name": "stderr",
          "text": [
            "/usr/local/lib/python3.11/dist-packages/keras/src/layers/core/dense.py:87: UserWarning: Do not pass an `input_shape`/`input_dim` argument to a layer. When using Sequential models, prefer using an `Input(shape)` object as the first layer in the model instead.\n",
            "  super().__init__(activity_regularizer=activity_regularizer, **kwargs)\n"
          ]
        },
        {
          "output_type": "stream",
          "name": "stdout",
          "text": [
            "Epoch 1/10\n",
            "\u001b[1m32/32\u001b[0m \u001b[32m━━━━━━━━━━━━━━━━━━━━\u001b[0m\u001b[37m\u001b[0m \u001b[1m2s\u001b[0m 5ms/step - accuracy: 0.1262 - loss: 8.8555\n",
            "Epoch 2/10\n",
            "\u001b[1m32/32\u001b[0m \u001b[32m━━━━━━━━━━━━━━━━━━━━\u001b[0m\u001b[37m\u001b[0m \u001b[1m0s\u001b[0m 4ms/step - accuracy: 0.1316 - loss: 9.8337\n",
            "Epoch 3/10\n",
            "\u001b[1m32/32\u001b[0m \u001b[32m━━━━━━━━━━━━━━━━━━━━\u001b[0m\u001b[37m\u001b[0m \u001b[1m0s\u001b[0m 4ms/step - accuracy: 0.1226 - loss: 11.1926\n",
            "Epoch 4/10\n",
            "\u001b[1m32/32\u001b[0m \u001b[32m━━━━━━━━━━━━━━━━━━━━\u001b[0m\u001b[37m\u001b[0m \u001b[1m0s\u001b[0m 5ms/step - accuracy: 0.1328 - loss: 11.5555\n",
            "Epoch 5/10\n",
            "\u001b[1m32/32\u001b[0m \u001b[32m━━━━━━━━━━━━━━━━━━━━\u001b[0m\u001b[37m\u001b[0m \u001b[1m0s\u001b[0m 4ms/step - accuracy: 0.1158 - loss: 12.0503\n",
            "Epoch 6/10\n",
            "\u001b[1m32/32\u001b[0m \u001b[32m━━━━━━━━━━━━━━━━━━━━\u001b[0m\u001b[37m\u001b[0m \u001b[1m0s\u001b[0m 4ms/step - accuracy: 0.1228 - loss: 12.4693\n",
            "Epoch 7/10\n",
            "\u001b[1m32/32\u001b[0m \u001b[32m━━━━━━━━━━━━━━━━━━━━\u001b[0m\u001b[37m\u001b[0m \u001b[1m0s\u001b[0m 5ms/step - accuracy: 0.1161 - loss: 12.7330\n",
            "Epoch 8/10\n",
            "\u001b[1m32/32\u001b[0m \u001b[32m━━━━━━━━━━━━━━━━━━━━\u001b[0m\u001b[37m\u001b[0m \u001b[1m0s\u001b[0m 5ms/step - accuracy: 0.1426 - loss: 13.2264\n",
            "Epoch 9/10\n",
            "\u001b[1m32/32\u001b[0m \u001b[32m━━━━━━━━━━━━━━━━━━━━\u001b[0m\u001b[37m\u001b[0m \u001b[1m0s\u001b[0m 5ms/step - accuracy: 0.1307 - loss: 13.0786\n",
            "Epoch 10/10\n",
            "\u001b[1m32/32\u001b[0m \u001b[32m━━━━━━━━━━━━━━━━━━━━\u001b[0m\u001b[37m\u001b[0m \u001b[1m0s\u001b[0m 4ms/step - accuracy: 0.1022 - loss: 13.5811\n",
            "[1 0 1 0]\n",
            "\u001b[1m1/1\u001b[0m \u001b[32m━━━━━━━━━━━━━━━━━━━━\u001b[0m\u001b[37m\u001b[0m \u001b[1m0s\u001b[0m 143ms/step\n",
            "ÿ\u0000\u0000\u0000\u0000\u0000\u0000\u0000\n"
          ]
        }
      ],
      "source": [
        "from keras.models import Sequential\n",
        "from keras.layers import Dense, Activation\n",
        "import numpy as np\n",
        "\n",
        "# Define the input and output sizes\n",
        "input_size = 100\n",
        "output_size = 8\n",
        "\n",
        "# Define the model architecture\n",
        "model = Sequential([\n",
        "    Dense(64, input_dim=input_size),\n",
        "    Activation('relu'),\n",
        "    Dense(output_size),\n",
        "    Activation('softmax')\n",
        "])\n",
        "\n",
        "# Compile the model with appropriate optimizer and loss function\n",
        "model.compile(optimizer='adam',\n",
        "              loss='categorical_crossentropy',\n",
        "              metrics=['accuracy'])\n",
        "\n",
        "# Train the model on a set of input-output pairs\n",
        "inputs = np.random.rand(1000, input_size)\n",
        "outputs = np.random.rand(1000, output_size)\n",
        "model.fit(inputs, outputs, epochs=10, batch_size=32)\n",
        "\n",
        "# Use the trained model to decode messages\n",
        "def decode_message(model, message):\n",
        "    # Encode the message as a one-hot vector\n",
        "    encoded_message = np.zeros((1, input_size))\n",
        "    for i, symbol in enumerate(message):\n",
        "        encoded_message[0, i] = ord(symbol)\n",
        "\n",
        "    # Predict the output probabilities using the trained model\n",
        "    output_probabilities = model.predict(encoded_message)[0]\n",
        "\n",
        "    # Decode the output probabilities into a message\n",
        "    decoded_message = \"\"\n",
        "    for i, probability in enumerate(output_probabilities):\n",
        "        decoded_message += chr(int(probability*255))\n",
        "\n",
        "    return decoded_message\n",
        "\n",
        "# Define the function to convert PCM signal into one-hot encoded input vector\n",
        "def pcm_to_input(pcm_signal):\n",
        "    # Convert PCM signal to binary\n",
        "    binary_signal = np.array([int(x) for x in np.binary_repr(pcm_signal)])\n",
        "\n",
        "    # Convert binary signal to one-hot encoded input vector\n",
        "    input_vector = np.zeros((len(binary_signal), input_size))\n",
        "    for i, bit in enumerate(binary_signal):\n",
        "        input_vector[i, bit] = 1\n",
        "\n",
        "    return binary_signal\n",
        "\n",
        "# Example usage\n",
        "pcm_signal = 10 # example PCM signal\n",
        "input_vector = pcm_to_input(pcm_signal)\n",
        "print(input_vector)\n",
        "\n",
        "decod=decode_message(model,\"Hello world\")\n",
        "print(decod)"
      ]
    }
  ]
}